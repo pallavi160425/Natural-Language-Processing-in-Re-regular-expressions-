{
  "nbformat": 4,
  "nbformat_minor": 0,
  "metadata": {
    "colab": {
      "provenance": [],
      "authorship_tag": "ABX9TyOX2jW+7s0icEhxYu7l2bRk",
      "include_colab_link": true
    },
    "kernelspec": {
      "name": "python3",
      "display_name": "Python 3"
    },
    "language_info": {
      "name": "python"
    }
  },
  "cells": [
    {
      "cell_type": "markdown",
      "metadata": {
        "id": "view-in-github",
        "colab_type": "text"
      },
      "source": [
        "<a href=\"https://colab.research.google.com/github/pallavi160425/Natural-Language-Processing-in-Re-regular-expressions-/blob/main/Regular_Expressions.ipynb\" target=\"_parent\"><img src=\"https://colab.research.google.com/assets/colab-badge.svg\" alt=\"Open In Colab\"/></a>"
      ]
    },
    {
      "cell_type": "markdown",
      "source": [
        "# Regular Expression"
      ],
      "metadata": {
        "id": "yS-G9KnqXgju"
      }
    },
    {
      "cell_type": "code",
      "execution_count": null,
      "metadata": {
        "id": "udVooRfLAbPO"
      },
      "outputs": [],
      "source": [
        "#Regular Expressions\n",
        "\n",
        "import re"
      ]
    },
    {
      "cell_type": "code",
      "source": [
        "pattern = \"apple\"\n",
        "text = \"i have an apple and an orange\"\n",
        "\n",
        "res = re.search(pattern,text)\n",
        "\n",
        "print(res)"
      ],
      "metadata": {
        "colab": {
          "base_uri": "https://localhost:8080/"
        },
        "id": "Irttkf4FAeNM",
        "outputId": "56b36892-4a21-4630-f47e-40ee8127388e"
      },
      "execution_count": null,
      "outputs": [
        {
          "output_type": "stream",
          "name": "stdout",
          "text": [
            "<re.Match object; span=(10, 15), match='apple'>\n"
          ]
        }
      ]
    },
    {
      "cell_type": "code",
      "source": [
        "pattern = \"seven\"\n",
        "text = \"There was no time to spare in empty words. In a brief discourse, later turned into seven hundred Sanskrit verses by the sage Vyasa, Krishna outlined to Arjuna the way to live one’s entire life so as to gain perfect self-knowledge and self-mastery.\"\n",
        "\n",
        "res= re.search(pattern,text)\n",
        "\n",
        "print(res)"
      ],
      "metadata": {
        "colab": {
          "base_uri": "https://localhost:8080/"
        },
        "id": "43bcIlzGivEH",
        "outputId": "0f94f17e-0c6b-47ed-c06e-04939e9eb531"
      },
      "execution_count": null,
      "outputs": [
        {
          "output_type": "stream",
          "name": "stdout",
          "text": [
            "<re.Match object; span=(83, 88), match='seven'>\n"
          ]
        }
      ]
    },
    {
      "cell_type": "code",
      "source": [
        "for i in range(len(text)):\n",
        "  print(i)\n",
        "  print(text[i])"
      ],
      "metadata": {
        "colab": {
          "base_uri": "https://localhost:8080/"
        },
        "id": "O_cUqAD4jOx1",
        "outputId": "7f0cbc20-7127-486c-e43c-9efe8c55a161"
      },
      "execution_count": null,
      "outputs": [
        {
          "output_type": "stream",
          "name": "stdout",
          "text": [
            "0\n",
            "T\n",
            "1\n",
            "h\n",
            "2\n",
            "e\n",
            "3\n",
            "r\n",
            "4\n",
            "e\n",
            "5\n",
            " \n",
            "6\n",
            "w\n",
            "7\n",
            "a\n",
            "8\n",
            "s\n",
            "9\n",
            " \n",
            "10\n",
            "n\n",
            "11\n",
            "o\n",
            "12\n",
            " \n",
            "13\n",
            "t\n",
            "14\n",
            "i\n",
            "15\n",
            "m\n",
            "16\n",
            "e\n",
            "17\n",
            " \n",
            "18\n",
            "t\n",
            "19\n",
            "o\n",
            "20\n",
            " \n",
            "21\n",
            "s\n",
            "22\n",
            "p\n",
            "23\n",
            "a\n",
            "24\n",
            "r\n",
            "25\n",
            "e\n",
            "26\n",
            " \n",
            "27\n",
            "i\n",
            "28\n",
            "n\n",
            "29\n",
            " \n",
            "30\n",
            "e\n",
            "31\n",
            "m\n",
            "32\n",
            "p\n",
            "33\n",
            "t\n",
            "34\n",
            "y\n",
            "35\n",
            " \n",
            "36\n",
            "w\n",
            "37\n",
            "o\n",
            "38\n",
            "r\n",
            "39\n",
            "d\n",
            "40\n",
            "s\n",
            "41\n",
            ".\n",
            "42\n",
            " \n",
            "43\n",
            "I\n",
            "44\n",
            "n\n",
            "45\n",
            " \n",
            "46\n",
            "a\n",
            "47\n",
            " \n",
            "48\n",
            "b\n",
            "49\n",
            "r\n",
            "50\n",
            "i\n",
            "51\n",
            "e\n",
            "52\n",
            "f\n",
            "53\n",
            " \n",
            "54\n",
            "d\n",
            "55\n",
            "i\n",
            "56\n",
            "s\n",
            "57\n",
            "c\n",
            "58\n",
            "o\n",
            "59\n",
            "u\n",
            "60\n",
            "r\n",
            "61\n",
            "s\n",
            "62\n",
            "e\n",
            "63\n",
            ",\n",
            "64\n",
            " \n",
            "65\n",
            "l\n",
            "66\n",
            "a\n",
            "67\n",
            "t\n",
            "68\n",
            "e\n",
            "69\n",
            "r\n",
            "70\n",
            " \n",
            "71\n",
            "t\n",
            "72\n",
            "u\n",
            "73\n",
            "r\n",
            "74\n",
            "n\n",
            "75\n",
            "e\n",
            "76\n",
            "d\n",
            "77\n",
            " \n",
            "78\n",
            "i\n",
            "79\n",
            "n\n",
            "80\n",
            "t\n",
            "81\n",
            "o\n",
            "82\n",
            " \n",
            "83\n",
            "s\n",
            "84\n",
            "e\n",
            "85\n",
            "v\n",
            "86\n",
            "e\n",
            "87\n",
            "n\n",
            "88\n",
            " \n",
            "89\n",
            "h\n",
            "90\n",
            "u\n",
            "91\n",
            "n\n",
            "92\n",
            "d\n",
            "93\n",
            "r\n",
            "94\n",
            "e\n",
            "95\n",
            "d\n",
            "96\n",
            " \n",
            "97\n",
            "S\n",
            "98\n",
            "a\n",
            "99\n",
            "n\n",
            "100\n",
            "s\n",
            "101\n",
            "k\n",
            "102\n",
            "r\n",
            "103\n",
            "i\n",
            "104\n",
            "t\n",
            "105\n",
            " \n",
            "106\n",
            "v\n",
            "107\n",
            "e\n",
            "108\n",
            "r\n",
            "109\n",
            "s\n",
            "110\n",
            "e\n",
            "111\n",
            "s\n",
            "112\n",
            " \n",
            "113\n",
            "b\n",
            "114\n",
            "y\n",
            "115\n",
            " \n",
            "116\n",
            "t\n",
            "117\n",
            "h\n",
            "118\n",
            "e\n",
            "119\n",
            " \n",
            "120\n",
            "s\n",
            "121\n",
            "a\n",
            "122\n",
            "g\n",
            "123\n",
            "e\n",
            "124\n",
            " \n",
            "125\n",
            "V\n",
            "126\n",
            "y\n",
            "127\n",
            "a\n",
            "128\n",
            "s\n",
            "129\n",
            "a\n",
            "130\n",
            ",\n",
            "131\n",
            " \n",
            "132\n",
            "K\n",
            "133\n",
            "r\n",
            "134\n",
            "i\n",
            "135\n",
            "s\n",
            "136\n",
            "h\n",
            "137\n",
            "n\n",
            "138\n",
            "a\n",
            "139\n",
            " \n",
            "140\n",
            "o\n",
            "141\n",
            "u\n",
            "142\n",
            "t\n",
            "143\n",
            "l\n",
            "144\n",
            "i\n",
            "145\n",
            "n\n",
            "146\n",
            "e\n",
            "147\n",
            "d\n",
            "148\n",
            " \n",
            "149\n",
            "t\n",
            "150\n",
            "o\n",
            "151\n",
            " \n",
            "152\n",
            "A\n",
            "153\n",
            "r\n",
            "154\n",
            "j\n",
            "155\n",
            "u\n",
            "156\n",
            "n\n",
            "157\n",
            "a\n",
            "158\n",
            " \n",
            "159\n",
            "t\n",
            "160\n",
            "h\n",
            "161\n",
            "e\n",
            "162\n",
            " \n",
            "163\n",
            "w\n",
            "164\n",
            "a\n",
            "165\n",
            "y\n",
            "166\n",
            " \n",
            "167\n",
            "t\n",
            "168\n",
            "o\n",
            "169\n",
            " \n",
            "170\n",
            "l\n",
            "171\n",
            "i\n",
            "172\n",
            "v\n",
            "173\n",
            "e\n",
            "174\n",
            " \n",
            "175\n",
            "o\n",
            "176\n",
            "n\n",
            "177\n",
            "e\n",
            "178\n",
            "’\n",
            "179\n",
            "s\n",
            "180\n",
            " \n",
            "181\n",
            "e\n",
            "182\n",
            "n\n",
            "183\n",
            "t\n",
            "184\n",
            "i\n",
            "185\n",
            "r\n",
            "186\n",
            "e\n",
            "187\n",
            " \n",
            "188\n",
            "l\n",
            "189\n",
            "i\n",
            "190\n",
            "f\n",
            "191\n",
            "e\n",
            "192\n",
            " \n",
            "193\n",
            "s\n",
            "194\n",
            "o\n",
            "195\n",
            " \n",
            "196\n",
            "a\n",
            "197\n",
            "s\n",
            "198\n",
            " \n",
            "199\n",
            "t\n",
            "200\n",
            "o\n",
            "201\n",
            " \n",
            "202\n",
            "g\n",
            "203\n",
            "a\n",
            "204\n",
            "i\n",
            "205\n",
            "n\n",
            "206\n",
            " \n",
            "207\n",
            "p\n",
            "208\n",
            "e\n",
            "209\n",
            "r\n",
            "210\n",
            "f\n",
            "211\n",
            "e\n",
            "212\n",
            "c\n",
            "213\n",
            "t\n",
            "214\n",
            " \n",
            "215\n",
            "s\n",
            "216\n",
            "e\n",
            "217\n",
            "l\n",
            "218\n",
            "f\n",
            "219\n",
            "-\n",
            "220\n",
            "k\n",
            "221\n",
            "n\n",
            "222\n",
            "o\n",
            "223\n",
            "w\n",
            "224\n",
            "l\n",
            "225\n",
            "e\n",
            "226\n",
            "d\n",
            "227\n",
            "g\n",
            "228\n",
            "e\n",
            "229\n",
            " \n",
            "230\n",
            "a\n",
            "231\n",
            "n\n",
            "232\n",
            "d\n",
            "233\n",
            " \n",
            "234\n",
            "s\n",
            "235\n",
            "e\n",
            "236\n",
            "l\n",
            "237\n",
            "f\n",
            "238\n",
            "-\n",
            "239\n",
            "m\n",
            "240\n",
            "a\n",
            "241\n",
            "s\n",
            "242\n",
            "t\n",
            "243\n",
            "e\n",
            "244\n",
            "r\n",
            "245\n",
            "y\n",
            "246\n",
            ".\n"
          ]
        }
      ]
    },
    {
      "cell_type": "code",
      "source": [
        "pattern = \"apple\"\n",
        "text = \"i have an apple and an orange\"\n",
        "\n",
        "res = re.search(pattern,text)\n",
        "\n",
        "print(res.group())"
      ],
      "metadata": {
        "colab": {
          "base_uri": "https://localhost:8080/"
        },
        "id": "Kk-bPUYQVOD1",
        "outputId": "fc009d01-0844-437a-98c5-1f12fc784392"
      },
      "execution_count": null,
      "outputs": [
        {
          "output_type": "stream",
          "name": "stdout",
          "text": [
            "apple\n"
          ]
        }
      ]
    },
    {
      "cell_type": "code",
      "source": [
        "pattern = \"banana\"  #ikkada banana undho ledho chpli\n",
        "text = \"i have an apple and an orange\"\n",
        "\n",
        "res = re.search(pattern,text)\n",
        "\n",
        "print(res)  # ikkda ledhu kanuka none ani vasthundhi"
      ],
      "metadata": {
        "colab": {
          "base_uri": "https://localhost:8080/"
        },
        "id": "T3NjqZEpAePC",
        "outputId": "3e4a7579-0db0-44f5-9cb9-6ac8d6a5df01"
      },
      "execution_count": null,
      "outputs": [
        {
          "output_type": "stream",
          "name": "stdout",
          "text": [
            "None\n"
          ]
        }
      ]
    },
    {
      "cell_type": "code",
      "source": [
        "pattern  = \"\\d+\"   #ikkada \\d ante digits ni fineload chesthundhi '+' ante oka digit fineload iyithey migatha digits ni fineload chesthundhi\n",
        "\n",
        "text = \"there are 15 apples and 30 oranges\"\n",
        "\n",
        "res = re.findall(pattern,text)  # findall ane subject lo digits ni integers\n",
        "\n",
        "print(res)\n"
      ],
      "metadata": {
        "colab": {
          "base_uri": "https://localhost:8080/"
        },
        "id": "fRj3G6D6AeSv",
        "outputId": "9f1ee1d5-4c0f-4c77-ad44-ffd287620401"
      },
      "execution_count": null,
      "outputs": [
        {
          "output_type": "stream",
          "name": "stdout",
          "text": [
            "['15', '30']\n"
          ]
        }
      ]
    },
    {
      "cell_type": "code",
      "source": [
        "pattern =\"\\d+\"\n",
        "\n",
        "text = \"there are 234 apples 40 bananas and 100 watermelons\"\n",
        "\n",
        "res= re.findall(pattern,text)\n",
        "\n",
        "print(res)"
      ],
      "metadata": {
        "colab": {
          "base_uri": "https://localhost:8080/"
        },
        "id": "OzoyqkP3VgF-",
        "outputId": "20b202a0-985e-4b72-852f-78a3f47ab37f"
      },
      "execution_count": null,
      "outputs": [
        {
          "output_type": "stream",
          "name": "stdout",
          "text": [
            "['234', '40', '100']\n"
          ]
        }
      ]
    },
    {
      "cell_type": "code",
      "source": [
        "pattern = 'apple'\n",
        "\n",
        "replacement = 'banana'\n",
        "\n",
        "text = 'i have an apple and an apple pie'\n",
        "\n",
        "print(text)\n",
        "\n",
        "res = re.sub(pattern,replacement,text)\n",
        "\n",
        "print(res)"
      ],
      "metadata": {
        "colab": {
          "base_uri": "https://localhost:8080/"
        },
        "id": "Rq9u8dppVgC_",
        "outputId": "43ee1f32-ec3d-451d-dee0-780462ca833a"
      },
      "execution_count": null,
      "outputs": [
        {
          "output_type": "stream",
          "name": "stdout",
          "text": [
            "i have an apple and an apple pie\n",
            "i have an banana and an banana pie\n"
          ]
        }
      ]
    },
    {
      "cell_type": "code",
      "source": [
        "pattern = \"\\s+\"\n",
        "\n",
        "text = \"split this string on whitespace.\"\n",
        "\n",
        "print(text)\n",
        "\n",
        "res = re.split(pattern,text)\n",
        "\n",
        "print(res)"
      ],
      "metadata": {
        "colab": {
          "base_uri": "https://localhost:8080/"
        },
        "id": "6c1fOc3lggyy",
        "outputId": "f3676841-f947-444c-ec01-8b60ca3873ff"
      },
      "execution_count": null,
      "outputs": [
        {
          "output_type": "stream",
          "name": "stdout",
          "text": [
            "split this string on whitespace.\n",
            "['split', 'this', 'string', 'on', 'whitespace.']\n"
          ]
        }
      ]
    },
    {
      "cell_type": "code",
      "source": [
        "pattern = \"\\s+\"\n",
        "\n",
        "text = \"There was no time to spare in empty words. In a brief discourse, later turned into seven hundred Sanskrit verses by the sage Vyasa, Krishna outlined to Arjuna the way to live one’s entire life so as to gain perfect self-knowledge and self-mastery.\"\n",
        "\n",
        "print(text)\n",
        "\n",
        "res = re.split(pattern,text)\n",
        "\n",
        "print(res)\n"
      ],
      "metadata": {
        "colab": {
          "base_uri": "https://localhost:8080/"
        },
        "id": "W2MbYVk7h2w3",
        "outputId": "ccc55279-ca44-4e19-bbfa-51d1d069d7f2"
      },
      "execution_count": null,
      "outputs": [
        {
          "output_type": "stream",
          "name": "stdout",
          "text": [
            "There was no time to spare in empty words. In a brief discourse, later turned into seven hundred Sanskrit verses by the sage Vyasa, Krishna outlined to Arjuna the way to live one’s entire life so as to gain perfect self-knowledge and self-mastery.\n",
            "['There', 'was', 'no', 'time', 'to', 'spare', 'in', 'empty', 'words.', 'In', 'a', 'brief', 'discourse,', 'later', 'turned', 'into', 'seven', 'hundred', 'Sanskrit', 'verses', 'by', 'the', 'sage', 'Vyasa,', 'Krishna', 'outlined', 'to', 'Arjuna', 'the', 'way', 'to', 'live', 'one’s', 'entire', 'life', 'so', 'as', 'to', 'gain', 'perfect', 'self-knowledge', 'and', 'self-mastery.']\n"
          ]
        }
      ]
    },
    {
      "cell_type": "code",
      "source": [
        "pattern = \"\\s+\"\n",
        "\n",
        "text = \"split this string on whitespace.\"\n",
        "\n",
        "print(text)\n",
        "\n",
        "res = re.findall(pattern,text)\n",
        "\n",
        "print(res)"
      ],
      "metadata": {
        "colab": {
          "base_uri": "https://localhost:8080/"
        },
        "id": "32meJM9vggit",
        "outputId": "fb87f202-409c-4451-9a74-8b95003f13b1"
      },
      "execution_count": null,
      "outputs": [
        {
          "output_type": "stream",
          "name": "stdout",
          "text": [
            "split this string on whitespace.\n",
            "[' ', ' ', ' ', ' ']\n"
          ]
        }
      ]
    },
    {
      "cell_type": "code",
      "source": [
        "pattern = \"\\d{10}\"\n",
        "text = \"elonmusk's phone number is 9991116666 call him if you have any question on dodgecoin tesla's revenue is 40 billion\"\n",
        "\n",
        "result = re.findall(pattern,text)\n",
        "\n",
        "print(result)"
      ],
      "metadata": {
        "colab": {
          "base_uri": "https://localhost:8080/"
        },
        "id": "OvmF7LC9xgPW",
        "outputId": "1e207893-4112-4b0a-dbc9-2986b44f873f"
      },
      "execution_count": null,
      "outputs": [
        {
          "output_type": "stream",
          "name": "stdout",
          "text": [
            "['9991116666']\n"
          ]
        }
      ]
    },
    {
      "cell_type": "code",
      "source": [
        "pattern = \"\\d+\"\n",
        "text = \"elonmusk's phone number is 9991116666 call him if you have any question on dodgecoin tesla's revenue is 40 billion\"\n",
        "\n",
        "result = re.findall(pattern,text)\n",
        "\n",
        "print(result)"
      ],
      "metadata": {
        "colab": {
          "base_uri": "https://localhost:8080/"
        },
        "id": "4ZHsDeqHxgF3",
        "outputId": "d79fa692-749f-4938-a18c-c1d1c5c622fa"
      },
      "execution_count": null,
      "outputs": [
        {
          "output_type": "stream",
          "name": "stdout",
          "text": [
            "['9991116666', '40']\n"
          ]
        }
      ]
    },
    {
      "cell_type": "code",
      "source": [
        "pattern = \"\\d\"\n",
        "text = \"elonmusk's phone number is 9991116666 call him if you have any question on dodgecoin tesla's revenvue is 40 billion\"\n",
        "\n",
        "result = re.findall(pattern,text)\n",
        "\n",
        "print(result)"
      ],
      "metadata": {
        "colab": {
          "base_uri": "https://localhost:8080/"
        },
        "id": "KI3BL_sb1wac",
        "outputId": "a935fd19-2223-4b83-fd18-56ebf4be5a44"
      },
      "execution_count": null,
      "outputs": [
        {
          "output_type": "stream",
          "name": "stdout",
          "text": [
            "['9', '9', '9', '1', '1', '1', '6', '6', '6', '6', '4', '0']\n"
          ]
        }
      ]
    },
    {
      "cell_type": "code",
      "source": [
        "pattern = \"\\(\\d{3}\\)-\\d{3}-\\d{4}\"\n",
        "text = \"elonmusk's phone number is 9991116666 call him if you have any question on dodgecoin tesla's revenue is 40 billion tesla's cfo number (999)-333-7777\"\n",
        "\n",
        "result = re.search(pattern,text)\n",
        "\n",
        "print(result)"
      ],
      "metadata": {
        "colab": {
          "base_uri": "https://localhost:8080/"
        },
        "id": "X2ewFvLD1wcm",
        "outputId": "57c5b7cc-e285-4789-c7aa-7acd1bec87aa"
      },
      "execution_count": null,
      "outputs": [
        {
          "output_type": "stream",
          "name": "stdout",
          "text": [
            "<re.Match object; span=(134, 148), match='(999)-333-7777'>\n"
          ]
        }
      ]
    },
    {
      "cell_type": "code",
      "source": [
        "pattern = \"\\(\\d{3}\\)-\\d{3}-\\d{4}\"\n",
        "text = \"elonmusk's phone number is 9991116666 call him if you have any question on dodgecoin tesla's revenue is 40 billion tesla's cfo number (999)-333-7777\"\n",
        "\n",
        "result = re.findall(pattern,text)\n",
        "\n",
        "print(result)"
      ],
      "metadata": {
        "colab": {
          "base_uri": "https://localhost:8080/"
        },
        "id": "OglKhRWM1wgH",
        "outputId": "5aa22334-5bdb-4035-ccce-f8bd45da9631"
      },
      "execution_count": null,
      "outputs": [
        {
          "output_type": "stream",
          "name": "stdout",
          "text": [
            "['(999)-333-7777']\n"
          ]
        }
      ]
    },
    {
      "cell_type": "code",
      "source": [
        "pattern = \"\\(\\d{3}\\)-\\d{3}-\\d{4}|\\d{10}\"\n",
        "text = \"elonmusk's phone number is 9991116666 call him if you have any question on dodgecoin tesla's revenue is 40 billion tesla's cfo number (999)-333-7777\"\n",
        "\n",
        "result = re.findall(pattern,text)\n",
        "\n",
        "print(result)"
      ],
      "metadata": {
        "colab": {
          "base_uri": "https://localhost:8080/"
        },
        "id": "ytSp0537-FxS",
        "outputId": "0cc8b57d-0317-4c7d-be6e-672f9165c2e1"
      },
      "execution_count": null,
      "outputs": [
        {
          "output_type": "stream",
          "name": "stdout",
          "text": [
            "['9991116666', '(999)-333-7777']\n"
          ]
        }
      ]
    },
    {
      "cell_type": "code",
      "source": [
        "pattern = \"[^;]\"\n",
        "\n",
        "text = 'asjlfj;kj;alsj;df-'\n",
        "\n",
        "res = re.findall(pattern,text)\n",
        "res"
      ],
      "metadata": {
        "colab": {
          "base_uri": "https://localhost:8080/"
        },
        "id": "TmNCZocJGkvb",
        "outputId": "1a00f83b-461b-448a-944b-b5d328d26823"
      },
      "execution_count": null,
      "outputs": [
        {
          "output_type": "execute_result",
          "data": {
            "text/plain": [
              "['a', 's', 'j', 'l', 'f', 'j', 'k', 'j', 'a', 'l', 's', 'j', 'd', 'f', '-']"
            ]
          },
          "metadata": {},
          "execution_count": 6
        }
      ]
    },
    {
      "cell_type": "code",
      "source": [
        "pattern = \"[^;-]\"\n",
        "\n",
        "text = 'asjlfj;kj;alsj;df-'\n",
        "\n",
        "res = re.findall(pattern,text)\n",
        "res"
      ],
      "metadata": {
        "colab": {
          "base_uri": "https://localhost:8080/"
        },
        "id": "WywlpUD4gt_3",
        "outputId": "49f3a1f1-2b75-4e84-fbfc-bf66eede89a2"
      },
      "execution_count": null,
      "outputs": [
        {
          "output_type": "execute_result",
          "data": {
            "text/plain": [
              "['a', 's', 'j', 'l', 'f', 'j', 'k', 'j', 'a', 'l', 's', 'j', 'd', 'f']"
            ]
          },
          "metadata": {},
          "execution_count": 7
        }
      ]
    },
    {
      "cell_type": "code",
      "source": [
        "pattern = \"[^-]+\"\n",
        "text = 'asjlfj;kj;alsj;df-'\n",
        "\n",
        "res = re.findall(pattern,text)\n",
        "res"
      ],
      "metadata": {
        "colab": {
          "base_uri": "https://localhost:8080/"
        },
        "id": "uiuKOVgFgz6n",
        "outputId": "d1d1bea4-8b52-49da-8921-7f93019e5678"
      },
      "execution_count": null,
      "outputs": [
        {
          "output_type": "execute_result",
          "data": {
            "text/plain": [
              "['asjlfj;kj;alsj;df']"
            ]
          },
          "metadata": {},
          "execution_count": 10
        }
      ]
    },
    {
      "cell_type": "code",
      "source": [
        "pattern = \"[^;]+\"\n",
        "text = 'asjlfj;kj;alsj;df-'\n",
        "\n",
        "res = re.findall(pattern,text)\n",
        "res"
      ],
      "metadata": {
        "colab": {
          "base_uri": "https://localhost:8080/"
        },
        "id": "Z_7BXhWphcFl",
        "outputId": "d75359ed-e53b-43c3-d521-5ac8e6711022"
      },
      "execution_count": null,
      "outputs": [
        {
          "output_type": "execute_result",
          "data": {
            "text/plain": [
              "['asjlfj', 'kj', 'alsj', 'df-']"
            ]
          },
          "metadata": {},
          "execution_count": 12
        }
      ]
    },
    {
      "cell_type": "code",
      "source": [
        "pattern = \"[^-]\"\n",
        "text = 'asjlfj;kj;alsj;df-'\n",
        "\n",
        "res = re.findall(pattern,text)\n",
        "res"
      ],
      "metadata": {
        "colab": {
          "base_uri": "https://localhost:8080/"
        },
        "id": "yG3TssnchUEl",
        "outputId": "5922dc5e-fe1f-4105-bd58-9d38b1f27aff"
      },
      "execution_count": null,
      "outputs": [
        {
          "output_type": "execute_result",
          "data": {
            "text/plain": [
              "['a',\n",
              " 's',\n",
              " 'j',\n",
              " 'l',\n",
              " 'f',\n",
              " 'j',\n",
              " ';',\n",
              " 'k',\n",
              " 'j',\n",
              " ';',\n",
              " 'a',\n",
              " 'l',\n",
              " 's',\n",
              " 'j',\n",
              " ';',\n",
              " 'd',\n",
              " 'f']"
            ]
          },
          "metadata": {},
          "execution_count": 11
        }
      ]
    },
    {
      "cell_type": "code",
      "source": [
        "pattern = \"[^;-]+\"\n",
        "\n",
        "text = 'asjlfj;kj;alsj;df-'\n",
        "\n",
        "res = re.findall(pattern,text)\n",
        "res"
      ],
      "metadata": {
        "colab": {
          "base_uri": "https://localhost:8080/"
        },
        "id": "EqsIoI49HoUG",
        "outputId": "e6d1a365-ad61-4c24-a33e-f84a1a74930d"
      },
      "execution_count": null,
      "outputs": [
        {
          "output_type": "execute_result",
          "data": {
            "text/plain": [
              "['asjlfj', 'kj', 'alsj', 'df']"
            ]
          },
          "metadata": {},
          "execution_count": 70
        }
      ]
    },
    {
      "cell_type": "code",
      "source": [
        "text ='''Note 1 – Overview\n",
        "Tesla, Inc. (“Tesla”, the “Company”, “we”, “us” or “our”) was incorporated in the State of Delaware on July 1, 2003. We design, develop, manufacture and sell high-performance fully electric vehicles and design, manufacture, install and sell solar energy generation and energy storage\n",
        "products. Our Chief Executive Officer, as the chief operating decision maker (“CODM”), organizes our company, manages resource allocations and measures performance among two operating and reportable segments: (i) automotive and (ii) energy generation and storage.\n",
        "Beginning in the first quarter of 2021, there has been a trend in many parts of the world of increasing availability and administration of vaccines\n",
        "against COVID-19, as well as an easing of restrictions on social, business, travel and government activities and functions. On the other hand, infection\n",
        "rates and regulations continue to fluctuate in various regions and there are ongoing global impacts resulting from the pandemic, including challenges\n",
        "and increases in costs for logistics and supply chains, such as increased port congestion, intermittent supplier delays and a shortfall of semiconductor\n",
        "supply. We have also previously been affected by temporary manufacturing closures, employment and compensation adjustments and impediments to\n",
        "administrative activities supporting our product deliveries and deployments.\n",
        "Note 2 – Summary of Significant Accounting Policies\n",
        "Unaudited Interim Financial Statements\n",
        "The consolidated balance sheet as of September 30, 2021, the consolidated statements of operations, the consolidated statements of\n",
        "comprehensive income, the consolidated statements of redeemable noncontrolling interests and equity for the three and nine months ended September\n",
        "30, 2021 and 2020 and the consolidated statements of cash flows for the nine months ended September 30, 2021 and 2020, as well as other information\n",
        "disclosed in the accompanying notes, are unaudited. The consolidated balance sheet as of December 31, 2020 was derived from the audited\n",
        "consolidated financial statements as of that date. The interim consolidated financial statements and the accompanying notes should be read in\n",
        "conjunction with the annual consolidated financial statements and the accompanying notes contained in our Annual Report on Form 10-K for the year\n",
        "ended December 31, 2020.\n",
        "The interim consolidated financial statements and the accompanying notes have been prepared on the same basis as the annual consolidated\n",
        "financial statements and, in the opinion of management, reflect all adjustments, which include only normal recurring adjustments, necessary for a fair\n",
        "statement of the results of operations for the periods presented. The consolidated results of operations for any interim period are not necessarily\n",
        "indicative of the results to be expected for the full year or for any other future years or interim periods.\n",
        "Use of Estimates\n",
        "The preparation of financial statements in conformity with U.S. generally accepted accounting principles (“GAAP”) requires management to make estimates and assumptions that affect the reported amounts of assets, liabilities, revenues, costs and expenses and related disclosures in the\n",
        "accompanying notes.\n",
        "Due to the COVID-19 pandemic, there has been uncertainty and disruption in the global economy and financial markets which could impact our\n",
        "estimates and assumptions. We have assessed the impact and are not aware of any specific events or circumstances that required an update to our\n",
        "estimates and assumptions or materially affected the carrying value of our assets or liabilities as of the date of issuance of this Quarterly Report on\n",
        "Form 10-Q. These estimates may change as new events occur and additional information is obtained. Actual results could differ materially from these\n",
        "estimates under different assumptions or conditions.\n",
        "Note 3 – This is an escape sequence\n",
        "which is a special combination of characters used to represent.'''\n",
        "\n",
        "pattern ='Note \\d – ([^\\n]*)'\n",
        "\n",
        "res = re.findall(pattern,text)\n",
        "print(res)"
      ],
      "metadata": {
        "colab": {
          "base_uri": "https://localhost:8080/"
        },
        "id": "OA0E9qAa-Fhc",
        "outputId": "5cec094b-a731-4de1-b1e3-41b963e2aca6"
      },
      "execution_count": null,
      "outputs": [
        {
          "output_type": "stream",
          "name": "stdout",
          "text": [
            "['Overview', 'Summary of Significant Accounting Policies', 'This is an escape sequence']\n"
          ]
        }
      ]
    },
    {
      "cell_type": "code",
      "source": [
        "text ='''Note 1 - Overview\n",
        "Tesla, Inc. (“Tesla”, the “Company”, “we”, “us” or “our”) was incorporated in the State of Delaware on July 1, 2003. We design, develop, manufacture and sell high-performance fully electric vehicles and design, manufacture, install and sell solar energy generation and energy storage\n",
        "products. Our Chief Executive Officer, as the chief operating decision maker (“CODM”), organizes our company, manages resource allocations and measures performance among two operating and reportable segments: (i) automotive and (ii) energy generation and storage.\n",
        "Beginning in the first quarter of 2021, there has been a trend in many parts of the world of increasing availability and administration of vaccines\n",
        "against COVID-19, as well as an easing of restrictions on social, business, travel and government activities and functions. On the other hand, infection\n",
        "rates and regulations continue to fluctuate in various regions and there are ongoing global impacts resulting from the pandemic, including challenges\n",
        "and increases in costs for logistics and supply chains, such as increased port congestion, intermittent supplier delays and a shortfall of semiconductor\n",
        "supply. We have also previously been affected by temporary manufacturing closures, employment and compensation adjustments and impediments to\n",
        "administrative activities supporting our product deliveries and deployments.\n",
        "Note 2 - Summary of Significant Accounting Policies\n",
        "Unaudited Interim Financial Statements\n",
        "The consolidated balance sheet as of September 30, 2021, the consolidated statements of operations, the consolidated statements of\n",
        "comprehensive income, the consolidated statements of redeemable noncontrolling interests and equity for the three and nine months ended September\n",
        "30, 2021 and 2020 and the consolidated statements of cash flows for the nine months ended September 30, 2021 and 2020, as well as other information\n",
        "disclosed in the accompanying notes, are unaudited. The consolidated balance sheet as of December 31, 2020 was derived from the audited\n",
        "consolidated financial statements as of that date. The interim consolidated financial statements and the accompanying notes should be read in\n",
        "conjunction with the annual consolidated financial statements and the accompanying notes contained in our Annual Report on Form 10-K for the year\n",
        "ended December 31, 2020.\n",
        "The interim consolidated financial statements and the accompanying notes have been prepared on the same basis as the annual consolidated\n",
        "financial statements and, in the opinion of management, reflect all adjustments, which include only normal recurring adjustments, necessary for a fair\n",
        "statement of the results of operations for the periods presented. The consolidated results of operations for any interim period are not necessarily\n",
        "indicative of the results to be expected for the full year or for any other future years or interim periods.\n",
        "Use of Estimates\n",
        "The preparation of financial statements in conformity with U.S. generally accepted accounting principles (“GAAP”) requires management to make estimates and assumptions that affect the reported amounts of assets, liabilities, revenues, costs and expenses and related disclosures in the\n",
        "accompanying notes.\n",
        "Due to the COVID-19 pandemic, there has been uncertainty and disruption in the global economy and financial markets which could impact our\n",
        "estimates and assumptions. We have assessed the impact and are not aware of any specific events or circumstances that required an update to our\n",
        "estimates and assumptions or materially affected the carrying value of our assets or liabilities as of the date of issuance of this Quarterly Report on\n",
        "Form 10-Q. These estimates may change as new events occur and additional information is obtained. Actual results could differ materially from these\n",
        "estimates under different assumptions or conditions.\n",
        "Note 3 - This is an escape sequence\n",
        "which is a special combination of characters used to represent.'''\n",
        "\n",
        "pattern ='Note \\d - ([^\\n]*)'\n",
        "\n",
        "res = re.findall(pattern,text)\n",
        "print(res)"
      ],
      "metadata": {
        "colab": {
          "base_uri": "https://localhost:8080/"
        },
        "id": "nWaTHLuPpEOU",
        "outputId": "699a1652-f912-4449-de6c-0df0cb69f0ac"
      },
      "execution_count": null,
      "outputs": [
        {
          "output_type": "stream",
          "name": "stdout",
          "text": [
            "['Overview', 'Summary of Significant Accounting Policies', 'This is an escape sequence']\n"
          ]
        }
      ]
    },
    {
      "cell_type": "code",
      "source": [
        "print(\"Hello\\nWorld\")"
      ],
      "metadata": {
        "colab": {
          "base_uri": "https://localhost:8080/"
        },
        "id": "cZi_TpdXLQT4",
        "outputId": "8ab1e054-0adb-4f27-d481-d12627ca3947"
      },
      "execution_count": null,
      "outputs": [
        {
          "output_type": "stream",
          "name": "stdout",
          "text": [
            "Hello\n",
            "World\n"
          ]
        }
      ]
    },
    {
      "cell_type": "code",
      "source": [
        "text = '''\n",
        "The gross cost of operating lease vehicles in FY2021 Q1 was $4.85 billion.\n",
        "in previous quarter i.e. FY2020 Q4 it was $3 billion.'''\n",
        "\n",
        "pattern = \"FY\\d{4}\" #ikkada manaku FY pattern kavali.so dhanini type chesi\n",
        "                    #digits kosam \\d ni ivvali ikkada two FY dhaggara digits common\n",
        "                    #ga unte appudu vasthundhi\n",
        "\n",
        "result = re.findall(pattern,text)\n",
        "\n",
        "result\n",
        "\n",
        "\n"
      ],
      "metadata": {
        "colab": {
          "base_uri": "https://localhost:8080/"
        },
        "id": "WxUvimyjLQB-",
        "outputId": "f2403863-5f65-4088-a695-c9f9b9a52a85"
      },
      "execution_count": null,
      "outputs": [
        {
          "output_type": "execute_result",
          "data": {
            "text/plain": [
              "['FY2021', 'FY2020']"
            ]
          },
          "metadata": {},
          "execution_count": 56
        }
      ]
    },
    {
      "cell_type": "code",
      "source": [
        "text = '''\n",
        "The gross cost of operating lease vehicles in FY2021 Q1 was $4.85 billion.\n",
        "in previous quarter i.e. FY2020 Q4 it was $3 billion.'''\n",
        "\n",
        "pattern = \"FY\\d{4} Q\\d\" #ikkada manaku FY inka Q  kavali.so pattern ila untundhi\n",
        "\n",
        "result = re.findall(pattern,text)\n",
        "\n",
        "result\n"
      ],
      "metadata": {
        "colab": {
          "base_uri": "https://localhost:8080/"
        },
        "id": "TQT2hCk7u0Y4",
        "outputId": "93a61f58-03be-40c2-de3d-370c04054291"
      },
      "execution_count": null,
      "outputs": [
        {
          "output_type": "execute_result",
          "data": {
            "text/plain": [
              "['FY2021 Q1', 'FY2020 Q4']"
            ]
          },
          "metadata": {},
          "execution_count": 59
        }
      ]
    },
    {
      "cell_type": "code",
      "source": [
        "text = '''\n",
        "The gross cost of operating lease vehicles in FY2021 Q1 was $4.85 billion.\n",
        "in previous quarter i.e. FY2020 Q4 it was $3 billion.FY2030 Q5'''\n",
        "\n",
        "pattern = \"FY\\d{4} Q\\d\" #ikkada manaku FY inka Q  kavali.so pattern ila untundhi\n",
        "\n",
        "result = re.findall(pattern,text)\n",
        "\n",
        "result\n",
        "\n",
        "\n"
      ],
      "metadata": {
        "colab": {
          "base_uri": "https://localhost:8080/"
        },
        "id": "EPWqp4XiD-ki",
        "outputId": "f0f738ed-bed6-4ef3-8987-de651a9bd632"
      },
      "execution_count": null,
      "outputs": [
        {
          "output_type": "execute_result",
          "data": {
            "text/plain": [
              "['FY2021 Q1', 'FY2020 Q4', 'FY2030 Q5']"
            ]
          },
          "metadata": {},
          "execution_count": 60
        }
      ]
    },
    {
      "cell_type": "code",
      "source": [
        "text = '''\n",
        "The gross cost of operating lease vehicles in FY2021 Q1 was $4.85 billion.\n",
        "in previous quarter i.e. FY2020 Q4 it was $3 billion.FY2030 Q5'''\n",
        "\n",
        "pattern = \"FY\\d{4} Q[1234]\" #ikkada manaku first rendu  FY inka Q  kavali.so pattern ila untundhi\n",
        "\n",
        "result = re.findall(pattern,text)\n",
        "\n",
        "result"
      ],
      "metadata": {
        "colab": {
          "base_uri": "https://localhost:8080/"
        },
        "id": "mCqe31MpFEyp",
        "outputId": "7b87abe1-e147-4f84-ae30-7f4c0b782325"
      },
      "execution_count": null,
      "outputs": [
        {
          "output_type": "execute_result",
          "data": {
            "text/plain": [
              "['FY2021 Q1', 'FY2020 Q4']"
            ]
          },
          "metadata": {},
          "execution_count": 65
        }
      ]
    },
    {
      "cell_type": "code",
      "source": [
        "text = '''\n",
        "The gross cost of operating lease vehicles in FY2021 Q1 was $4.85 billion.\n",
        "in previous quarter i.e. FY2020 Q4 it was $3 billion.FY2030 Q5'''\n",
        "\n",
        "pattern = \"FY\\d{4} Q[123456]\" #ikkada manaku three  FY inka Q  kavali.so pattern ila untundhi\n",
        "\n",
        "result = re.findall(pattern,text)\n",
        "\n",
        "result"
      ],
      "metadata": {
        "colab": {
          "base_uri": "https://localhost:8080/"
        },
        "id": "moNiI5poHxNM",
        "outputId": "c5357381-35c0-4f9c-fa85-c7a825f2e6af"
      },
      "execution_count": null,
      "outputs": [
        {
          "output_type": "execute_result",
          "data": {
            "text/plain": [
              "['FY2021 Q1', 'FY2020 Q4', 'FY2030 Q5']"
            ]
          },
          "metadata": {},
          "execution_count": 70
        }
      ]
    },
    {
      "cell_type": "code",
      "source": [
        "text = '''\n",
        "The gross cost of operating lease vehicles in FY2021 Q1 was $4.85 billion.\n",
        "in previous quarter i.e. FY2020 Q4 it was $3 billion.FY2030 Q5'''\n",
        "\n",
        "pattern = \"FY\\d{4} Q[1-2]\" #ikkada manaku first   FY inka Q  kavali.so pattern ila untundhi\n",
        "                           #idhi range tisukoni cheyyadam\n",
        "result = re.findall(pattern,text)\n",
        "\n",
        "result"
      ],
      "metadata": {
        "colab": {
          "base_uri": "https://localhost:8080/"
        },
        "id": "F2dgXGUcH_cB",
        "outputId": "fb837bcf-0bec-4cd1-9ce5-3bfc2ca293f8"
      },
      "execution_count": null,
      "outputs": [
        {
          "output_type": "execute_result",
          "data": {
            "text/plain": [
              "['FY2021 Q1']"
            ]
          },
          "metadata": {},
          "execution_count": 72
        }
      ]
    },
    {
      "cell_type": "code",
      "source": [
        "text = '''\n",
        "The gross cost of operating lease vehicles in FY2021 Q1 was $4.85 billion.\n",
        "in previous quarter i.e. FY2020 Q4 it was $3 billion.FY2030 Q5'''\n",
        "\n",
        "pattern = \"FY\\d{4} Q[1-4]\" #ikkada manaku first rendu  FY inka Q  kavali.so pattern ila untundhi\n",
        "                           #idhi range tisukoni cheyyadam\n",
        "result = re.findall(pattern,text)\n",
        "\n",
        "result"
      ],
      "metadata": {
        "colab": {
          "base_uri": "https://localhost:8080/"
        },
        "id": "qoyBXDVUFEvv",
        "outputId": "4264a73c-058c-40b8-f059-0067bf291e86"
      },
      "execution_count": null,
      "outputs": [
        {
          "output_type": "execute_result",
          "data": {
            "text/plain": [
              "['FY2021 Q1', 'FY2020 Q4']"
            ]
          },
          "metadata": {},
          "execution_count": 68
        }
      ]
    },
    {
      "cell_type": "code",
      "source": [
        "text = '''\n",
        "The gross cost of operating lease vehicles in FY2021 Q1 was $4.85 billion.\n",
        "in previous quarter i.e. FY2020 Q4 it was $3 billion.FY2030 Q5'''\n",
        "\n",
        "pattern = \"FY\\d{4} Q[1-6]\" #ikkada manaku first rendu  FY inka Q  kavali.so pattern ila untundhi\n",
        "                           #idhi range tisukoni cheyyadam\n",
        "result = re.findall(pattern,text)\n",
        "\n",
        "result"
      ],
      "metadata": {
        "colab": {
          "base_uri": "https://localhost:8080/"
        },
        "id": "VgeFwxjeFEhS",
        "outputId": "e8b665a6-5cf1-4194-9431-1a28902c6652"
      },
      "execution_count": null,
      "outputs": [
        {
          "output_type": "execute_result",
          "data": {
            "text/plain": [
              "['FY2021 Q1', 'FY2020 Q4', 'FY2030 Q5']"
            ]
          },
          "metadata": {},
          "execution_count": 69
        }
      ]
    },
    {
      "cell_type": "code",
      "source": [
        "text = '''\n",
        "The gross cost of operating lease vehicles in FY2021 Q1 was $4.85 billion.\n",
        "in previous quarter i.e. fy2020 Q4 it was $3 billion.FY2030 Q5'''\n",
        "\n",
        "pattern = \"FY\\d{4} Q[1-4]\" #ikkada manaku capital FY inka small fy kavali.so pattern ila untundhi\n",
        "                           #small fy kosam (flags=re.IGNORECASE)\n",
        "result = re.findall(pattern,text,flags=re.IGNORECASE)\n",
        "\n",
        "result"
      ],
      "metadata": {
        "colab": {
          "base_uri": "https://localhost:8080/"
        },
        "id": "FtbH6WkHFEeU",
        "outputId": "efe9e107-df46-447d-a8fe-dc1e23adfe8f"
      },
      "execution_count": null,
      "outputs": [
        {
          "output_type": "execute_result",
          "data": {
            "text/plain": [
              "['FY2021 Q1', 'fy2020 Q4']"
            ]
          },
          "metadata": {},
          "execution_count": 74
        }
      ]
    },
    {
      "cell_type": "code",
      "source": [
        "text = '''\n",
        "The gross cost of operating lease vehicles in FY2021 Q1 was $4.85 billion.\n",
        "in previous quarter i.e. fy2020 Q4 it was $3 billion.FY2030 Q5'''\n",
        "\n",
        "pattern = \"FY(\\d{4} Q[1-4])\" #ikkada manaku FY lekunda only dhani pakkane unde inka Q matrame kavali.so pattern ila untundhi\n",
        "                           #small fy kosam (flags=re.IGNORECASE)\n",
        "result = re.findall(pattern,text,flags=re.IGNORECASE)\n",
        "\n",
        "result"
      ],
      "metadata": {
        "colab": {
          "base_uri": "https://localhost:8080/"
        },
        "id": "8JeOOSFyHqZo",
        "outputId": "ab73485a-8666-47d1-9860-1006325bfaf8"
      },
      "execution_count": null,
      "outputs": [
        {
          "output_type": "execute_result",
          "data": {
            "text/plain": [
              "['2021 Q1', '2020 Q4']"
            ]
          },
          "metadata": {},
          "execution_count": 76
        }
      ]
    },
    {
      "cell_type": "code",
      "source": [
        "text = '''\n",
        "The gross cost of operating lease vehicles in FY2021 Q1 was $4.85 billion.\n",
        "tesla's employee count is 5400.In previous quarter i.e. FY2020 Q4 it was $3 billion.FY2030 Q5'''\n",
        "\n",
        "pattern = \"\\$\\d\"\n",
        "\n",
        "result = re.findall(pattern,text)\n",
        "\n",
        "result"
      ],
      "metadata": {
        "colab": {
          "base_uri": "https://localhost:8080/"
        },
        "id": "to5NNIsbIOMN",
        "outputId": "e36965ff-9a60-4eb8-a021-56c8f656c46b"
      },
      "execution_count": null,
      "outputs": [
        {
          "output_type": "execute_result",
          "data": {
            "text/plain": [
              "['$4', '$3']"
            ]
          },
          "metadata": {},
          "execution_count": 82
        }
      ]
    },
    {
      "cell_type": "code",
      "source": [
        "text = '''\n",
        "The gross cost of operating lease vehicles in FY2021 Q1 was $4.85 billion.\n",
        "tesla's employee count is 5400.In previous quarter i.e. FY2020 Q4 it was $3 billion.FY2030 Q5'''\n",
        "\n",
        "pattern = \"\\$[\\d\\.]+\"  #ikkada dollar ante end of the string\n",
        "                       #ikkada dollar taruvatha unde digits ni inka dot(.) undi\n",
        "                       #taruvatha unde numbers kosam  plus(+) isthey add avuthundhi\n",
        "\n",
        "result = re.findall(pattern,text)\n",
        "\n",
        "result"
      ],
      "metadata": {
        "colab": {
          "base_uri": "https://localhost:8080/"
        },
        "id": "gS9c8qCPOmS_",
        "outputId": "faeb9a66-035a-4581-db87-61db0328523a"
      },
      "execution_count": null,
      "outputs": [
        {
          "output_type": "execute_result",
          "data": {
            "text/plain": [
              "['$4.85', '$3']"
            ]
          },
          "metadata": {},
          "execution_count": 84
        }
      ]
    },
    {
      "cell_type": "code",
      "source": [
        "text = '''\n",
        "The gross cost of operating lease vehicles in FY2021 Q1 was $4.85 billion.\n",
        "tesla's employee count is 5400.In previous quarter i.e. FY2020 Q4 it was $3 billion.FY2030 Q5'''\n",
        "\n",
        "pattern = \"\\$[0-9\\.]+\" #ikkada 0-9 means ante any digit ani\n",
        "\n",
        "result = re.findall(pattern,text)\n",
        "\n",
        "result"
      ],
      "metadata": {
        "colab": {
          "base_uri": "https://localhost:8080/"
        },
        "id": "5raJNcv3PIKR",
        "outputId": "0c61ffe1-4263-49f2-d86b-2da874ed0c24"
      },
      "execution_count": null,
      "outputs": [
        {
          "output_type": "execute_result",
          "data": {
            "text/plain": [
              "['$4.85', '$3']"
            ]
          },
          "metadata": {},
          "execution_count": 85
        }
      ]
    },
    {
      "cell_type": "code",
      "source": [
        "text = '''\n",
        "The gross cost of operating lease vehicles in FY2021 Q1 was $4.85 billion.\n",
        "tesla's employee count is 5400.In previous quarter i.e. FY2020 Q4 it was $3 billion.FY2030 Q5'''\n",
        "\n",
        "pattern = \"\\$([0-9\\.]+)\" #ikkada 0-9 means ante any digit ani\n",
        "                       #dollar symbol lekunda print cheyyadam\n",
        "                       #\\$ taruvatha brackets isthey manaku adhi raakunda\n",
        "                       #migathadhi print avuthundhi\n",
        "result = re.findall(pattern,text)\n",
        "\n",
        "result"
      ],
      "metadata": {
        "colab": {
          "base_uri": "https://localhost:8080/"
        },
        "id": "j1z9sLnfQSJa",
        "outputId": "5f645f98-ad41-4f8e-ba52-6dcc7c168a80"
      },
      "execution_count": null,
      "outputs": [
        {
          "output_type": "execute_result",
          "data": {
            "text/plain": [
              "['4.85', '3']"
            ]
          },
          "metadata": {},
          "execution_count": 87
        }
      ]
    },
    {
      "cell_type": "code",
      "source": [
        "#FY2021 Q1---->4.85\n",
        "#FY2020 Q4---->3\n",
        "text = '''\n",
        "The gross cost of operating lease vehicles in FY2021 Q1 was $4.85 billion.\n",
        "tesla's employee count is 5400.In previous quarter i.e. FY2020 Q4 it was $3 billion.FY2030 Q5'''\n",
        "\n",
        "pattern = \"FY(\\d{4} Q[1-4])[^\\$]+\\$([0-9\\.]+)\"\n",
        "result = re.findall(pattern,text)\n",
        "\n",
        "result\n"
      ],
      "metadata": {
        "colab": {
          "base_uri": "https://localhost:8080/"
        },
        "id": "vBwkG3UaQWUy",
        "outputId": "0d6de43f-0e89-454d-92e6-f214c32f6b37"
      },
      "execution_count": null,
      "outputs": [
        {
          "output_type": "execute_result",
          "data": {
            "text/plain": [
              "[('2021 Q1', '4.85'), ('2020 Q4', '3')]"
            ]
          },
          "metadata": {},
          "execution_count": 89
        }
      ]
    },
    {
      "cell_type": "code",
      "source": [
        "#FY2021 Q1---->4.85\n",
        "#FY2020 Q4---->3\n",
        "text = '''\n",
        "The gross cost of operating lease vehicles in FY2021 Q1 was $4.85 billion.\n",
        "tesla's employee count is 5400.In previous quarter i.e. FY2020 Q4 it was $3 billion.FY2030 Q5'''\n",
        "\n",
        "pattern = \"FY(\\d{4} Q[1-4])[^\\$]+\\$([0-9\\.]+)\"\n",
        "result = re.findall(pattern,text)\n",
        "\n",
        "result\n"
      ],
      "metadata": {
        "colab": {
          "base_uri": "https://localhost:8080/"
        },
        "id": "qnogyieUUubh",
        "outputId": "96c8c07f-fbf4-4584-c248-1c52b3d9aee5"
      },
      "execution_count": null,
      "outputs": [
        {
          "output_type": "execute_result",
          "data": {
            "text/plain": [
              "[('2021 Q1', '4.85'), ('2020 Q4', '3')]"
            ]
          },
          "metadata": {},
          "execution_count": 95
        }
      ]
    },
    {
      "cell_type": "code",
      "source": [
        "#FY2021 Q1---->4.85\n",
        "#FY2020 Q4---->3\n",
        "text = '''\n",
        "The gross cost of operating lease vehicles in FY2021 Q1 was $4.85 billion.\n",
        "tesla's employee count is 5400.In previous quarter i.e. FY2020 Q4 it was $3 billion.FY2030 Q5'''\n",
        "\n",
        "pattern = \"FY(\\d{4} Q[1-4])[^\\$]+\\$([0-9\\.]+)\"\n",
        "result = re.search(pattern,text)\n",
        "\n",
        "result\n"
      ],
      "metadata": {
        "colab": {
          "base_uri": "https://localhost:8080/"
        },
        "id": "Sv_V9PQQRCA3",
        "outputId": "88f5b6e7-4a9f-425f-cb2e-fabf6ff3ab77"
      },
      "execution_count": null,
      "outputs": [
        {
          "output_type": "execute_result",
          "data": {
            "text/plain": [
              "<re.Match object; span=(47, 66), match='FY2021 Q1 was $4.85'>"
            ]
          },
          "metadata": {},
          "execution_count": 90
        }
      ]
    },
    {
      "cell_type": "code",
      "source": [
        "result.group()"
      ],
      "metadata": {
        "colab": {
          "base_uri": "https://localhost:8080/",
          "height": 36
        },
        "id": "1MU0xnMDRB9p",
        "outputId": "31371150-1883-488d-cea0-028e7cb007d1"
      },
      "execution_count": null,
      "outputs": [
        {
          "output_type": "execute_result",
          "data": {
            "text/plain": [
              "'FY2021 Q1 was $4.85'"
            ],
            "application/vnd.google.colaboratory.intrinsic+json": {
              "type": "string"
            }
          },
          "metadata": {},
          "execution_count": 91
        }
      ]
    },
    {
      "cell_type": "code",
      "source": [],
      "metadata": {
        "id": "kZuNAc7TRBsS"
      },
      "execution_count": null,
      "outputs": []
    },
    {
      "cell_type": "code",
      "source": [],
      "metadata": {
        "id": "LYy7POHDRBpn"
      },
      "execution_count": null,
      "outputs": []
    }
  ]
}